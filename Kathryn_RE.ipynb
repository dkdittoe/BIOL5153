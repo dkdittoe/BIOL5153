{
 "cells": [
  {
   "cell_type": "code",
   "execution_count": 4,
   "metadata": {
    "collapsed": true
   },
   "outputs": [],
   "source": [
    "import re"
   ]
  },
  {
   "cell_type": "code",
   "execution_count": 26,
   "metadata": {},
   "outputs": [
    {
     "name": "stdout",
     "output_type": "stream",
     "text": [
      "Katherine went to the concert to see her favorite band, Catheryn and the Cathryn’s. She ran into her friend Kathryn, who introduced Katherine to her friend, Catherine. Together, they enjoyed the concert while texting inaudible snippets to their mutual friends, Kathrin and katharine.\n",
      "There are 8 girls with the same name spelled differently.\n",
      "These following girls have the same name spelled differently: ['Katherine', 'Catheryn', 'Cathryn', 'Kathryn', 'Katherine', 'Catherine.', 'Kathrin', 'katharine.']\n"
     ]
    }
   ],
   "source": [
    "find = \"Katherine went to the concert to see her favorite band, Catheryn and the Cathryn’s. She ran into her friend Kathryn, who introduced Katherine to her friend, Catherine. Together, they enjoyed the concert while texting inaudible snippets to their mutual friends, Kathrin and katharine.\"\n",
    "print(find)\n",
    "\n",
    "match = re.findall(r\"[\\w\\.-]+ath+[\\w\\.-]+\", find)\n",
    "\n",
    "if match:\n",
    "    print(\"There are\", len(match), 'girls with the same name spelled differently.')\n",
    "    print(\"These following girls have the same name spelled differently:\", match)\n",
    "    \n",
    "else:\n",
    "    print(\"No one went to the concert\")"
   ]
  },
  {
   "cell_type": "code",
   "execution_count": null,
   "metadata": {
    "collapsed": true
   },
   "outputs": [],
   "source": []
  }
 ],
 "metadata": {
  "kernelspec": {
   "display_name": "Python 3",
   "language": "python",
   "name": "python3"
  },
  "language_info": {
   "codemirror_mode": {
    "name": "ipython",
    "version": 3
   },
   "file_extension": ".py",
   "mimetype": "text/x-python",
   "name": "python",
   "nbconvert_exporter": "python",
   "pygments_lexer": "ipython3",
   "version": "3.6.1"
  }
 },
 "nbformat": 4,
 "nbformat_minor": 2
}
