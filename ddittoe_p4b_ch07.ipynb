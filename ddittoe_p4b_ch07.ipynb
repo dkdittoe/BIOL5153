{
 "cells": [
  {
   "cell_type": "code",
   "execution_count": 23,
   "metadata": {},
   "outputs": [],
   "source": [
    "#question 1\n",
    "import re\n",
    "accs = [\"xkn59438\", \"yhdck2\", \"eihd39d9\", \"chdsye847\", \"hedle3455\", \"xjhd53e\", \"45da\", \"de37dp\"]"
   ]
  },
  {
   "cell_type": "code",
   "execution_count": 8,
   "metadata": {},
   "outputs": [
    {
     "name": "stdout",
     "output_type": "stream",
     "text": [
      "\txkn59438\n",
      "\thedle3455\n",
      "\txjhd53e\n",
      "\t45da\n"
     ]
    }
   ],
   "source": [
    "#contain the number 5\n",
    "\n",
    "for acc in accs:     \n",
    "    if re.search(r\"5\", acc):         \n",
    "        print(\"\\t\" + acc)"
   ]
  },
  {
   "cell_type": "code",
   "execution_count": 9,
   "metadata": {},
   "outputs": [
    {
     "name": "stdout",
     "output_type": "stream",
     "text": [
      "\tyhdck2\n",
      "\teihd39d9\n",
      "\tchdsye847\n",
      "\thedle3455\n",
      "\txjhd53e\n",
      "\t45da\n",
      "\tde37dp\n"
     ]
    }
   ],
   "source": [
    "#contain the letter d or e \n",
    "\n",
    "for acc in accs:     \n",
    "    if re.search(r\"(d|e)\", acc):         \n",
    "        print(\"\\t\" + acc) \n",
    " "
   ]
  },
  {
   "cell_type": "code",
   "execution_count": 10,
   "metadata": {},
   "outputs": [
    {
     "name": "stdout",
     "output_type": "stream",
     "text": [
      "\tchdsye847\n",
      "\thedle3455\n",
      "\txjhd53e\n",
      "\tde37dp\n"
     ]
    }
   ],
   "source": [
    "#contain the letters d and e in that order\n",
    "for acc in accs:     \n",
    "    if re.search(r\"d.*e\", acc):         \n",
    "        print(\"\\t\" + acc)"
   ]
  },
  {
   "cell_type": "code",
   "execution_count": 11,
   "metadata": {},
   "outputs": [
    {
     "name": "stdout",
     "output_type": "stream",
     "text": [
      "\thedle3455\n"
     ]
    }
   ],
   "source": [
    "#contain the letters d and e in that order with a single letter between them \n",
    "for acc in accs:     \n",
    "    if re.search(r\"(d.e)\", acc):         \n",
    "        print(\"\\t\" + acc) "
   ]
  },
  {
   "cell_type": "code",
   "execution_count": 22,
   "metadata": {},
   "outputs": [
    {
     "name": "stdout",
     "output_type": "stream",
     "text": [
      "\teihd39d9\n",
      "\tchdsye847\n",
      "\thedle3455\n",
      "\txjhd53e\n",
      "\tde37dp\n"
     ]
    }
   ],
   "source": [
    "#contain both the letters d and e in any order \n",
    "for acc in accs:     \n",
    "    if re.search(r\"d.*e\", acc) or re.search(r\"e.*d\", acc):         \n",
    "        print(\"\\t\" + acc)"
   ]
  },
  {
   "cell_type": "code",
   "execution_count": 21,
   "metadata": {},
   "outputs": [
    {
     "name": "stdout",
     "output_type": "stream",
     "text": [
      "\txkn59438\n",
      "\tyhdck2\n",
      "\txjhd53e\n"
     ]
    }
   ],
   "source": [
    "#start with x or y \n",
    "for acc in accs:     \n",
    "    if re.search(r\"^(x|y)\", acc):         \n",
    "        print(\"\\t\" + acc)"
   ]
  },
  {
   "cell_type": "code",
   "execution_count": 20,
   "metadata": {},
   "outputs": [
    {
     "name": "stdout",
     "output_type": "stream",
     "text": [
      "\txjhd53e\n"
     ]
    }
   ],
   "source": [
    "#start with x or y and end with e  \n",
    "for acc in accs:     \n",
    "    if re.search(r\"^(x|y).*e$\", acc):         \n",
    "        print(\"\\t\" + acc) "
   ]
  },
  {
   "cell_type": "code",
   "execution_count": 19,
   "metadata": {},
   "outputs": [
    {
     "name": "stdout",
     "output_type": "stream",
     "text": [
      "\txkn59438\n",
      "\tchdsye847\n",
      "\thedle3455\n"
     ]
    }
   ],
   "source": [
    "#contain three or more numbers in a row \n",
    "for acc in accs:     \n",
    "    if re.search(r\"\\d{3,}\", acc):         \n",
    "        print(\"\\t\" + acc)"
   ]
  },
  {
   "cell_type": "code",
   "execution_count": 18,
   "metadata": {},
   "outputs": [
    {
     "name": "stdout",
     "output_type": "stream",
     "text": [
      "\txjhd53e\n"
     ]
    }
   ],
   "source": [
    " #end with d followed by either a, r or p\n",
    "for acc in accs:     \n",
    "    if re.search(r\"^(x|y).*e$\", acc):         \n",
    "        print(\"\\t\" + acc)"
   ]
  },
  {
   "cell_type": "code",
   "execution_count": 25,
   "metadata": {},
   "outputs": [
    {
     "name": "stdout",
     "output_type": "stream",
     "text": [
      "18\n",
      "[0, 18]\n",
      "one fragment size is  18\n"
     ]
    }
   ],
   "source": [
    "#question 2\n",
    "import re \n",
    "dna = open(\"dna.txt\").read().rstrip(\"\\n\") \n",
    "print(str(len(dna))) \n",
    "all_cuts = [0] \n",
    " \n",
    "# add cut positions for AbcI \n",
    "for match in re.finditer(r\"A[ATGC]TAAT\", dna):     \n",
    "    all_cuts.append(match.start() + 3)\n",
    "    \n",
    " # add cut positions for AbcII \n",
    "for match in re.finditer(r\"GC[AG][AT]TG\", dna):     \n",
    "    all_cuts.append(match.start() + 4) \n",
    "    \n",
    "# add the final position \n",
    "all_cuts.append(len(dna)) \n",
    "sorted_cuts = sorted(all_cuts) \n",
    "print(sorted_cuts) \n",
    " \n",
    " \n",
    "for i in range(1,len(sorted_cuts)):     \n",
    "    this_cut_position = sorted_cuts[i]     \n",
    "    previous_cut_position = sorted_cuts[i-1]     \n",
    "    fragment_size = this_cut_position - previous_cut_position     \n",
    "    print(\"one fragment size is  \"  + str(fragment_size)) "
   ]
  }
 ],
 "metadata": {
  "kernelspec": {
   "display_name": "Python 3",
   "language": "python",
   "name": "python3"
  },
  "language_info": {
   "codemirror_mode": {
    "name": "ipython",
    "version": 3
   },
   "file_extension": ".py",
   "mimetype": "text/x-python",
   "name": "python",
   "nbconvert_exporter": "python",
   "pygments_lexer": "ipython3",
   "version": "3.7.1"
  }
 },
 "nbformat": 4,
 "nbformat_minor": 2
}
